{
 "cells": [
  {
   "cell_type": "code",
   "execution_count": null,
   "id": "9ab06dd4-fefa-47e7-bf09-45b2257cb616",
   "metadata": {},
   "outputs": [],
   "source": []
  }
 ],
 "metadata": {
  "kernelspec": {
   "display_name": "",
   "name": ""
  },
  "language_info": {
   "name": ""
  }
 },
 "nbformat": 4,
 "nbformat_minor": 5
}
